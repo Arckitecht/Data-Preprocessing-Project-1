{
  "nbformat": 4,
  "nbformat_minor": 0,
  "metadata": {
    "colab": {
      "provenance": []
    },
    "kernelspec": {
      "name": "python3",
      "display_name": "Python 3"
    },
    "language_info": {
      "name": "python"
    }
  },
  "cells": [
    {
      "cell_type": "markdown",
      "source": [
        "**Project Details**\n",
        "\n",
        "| | Details |\n",
        "|----------|---------|\n",
        "| Author   | Alfrethanov Christian Wijaya |\n",
        "| Dataset  | retail_raw_reduced_data_quality.csv |\n",
        "| Goal     | Creating Data Cleaning Cheat Sheet. |"
      ],
      "metadata": {
        "id": "MCB4K_GzxaRd"
      }
    },
    {
      "cell_type": "markdown",
      "source": [
        "# **DATA CLEANING**\n",
        "\n",
        "--> **Cheat Sheet**"
      ],
      "metadata": {
        "id": "wZcQLqdMdta7"
      }
    },
    {
      "cell_type": "markdown",
      "source": [
        "**Dataset :**\n",
        "\n",
        "retail_raw_reduced_data_quality.csv\n",
        "\n",
        "<br>\n",
        "\n",
        "**Goal :**\n",
        "\n",
        "Creating a Cheat Sheet for Data Cleaning\n",
        "\n",
        "<br>\n",
        "\n",
        "**References :**\n",
        "\n",
        "DQLab"
      ],
      "metadata": {
        "id": "ScSMHVrkcQfl"
      }
    },
    {
      "cell_type": "markdown",
      "source": [
        "---\n",
        "\n",
        "# **START**\n",
        "\n",
        "---"
      ],
      "metadata": {
        "id": "tcg4KY4DcnRz"
      }
    },
    {
      "cell_type": "markdown",
      "source": [
        "Before we START this program, please drag the CSV file to the Files section at the sidebar."
      ],
      "metadata": {
        "id": "D9hLLhJRzv19"
      }
    },
    {
      "cell_type": "code",
      "source": [
        "# Import Libraries\n",
        "import pandas as pd\n",
        "import numpy as np\n",
        "import io"
      ],
      "metadata": {
        "id": "Hofz_4GHjOWM"
      },
      "execution_count": null,
      "outputs": []
    },
    {
      "cell_type": "code",
      "source": [
        "# Import Datasets\n",
        "df = pd.read_csv('retail_raw_reduced_data_quality.csv')"
      ],
      "metadata": {
        "id": "yeh3ZFHOD5sC"
      },
      "execution_count": null,
      "outputs": []
    },
    {
      "cell_type": "code",
      "source": [
        "df.head()"
      ],
      "metadata": {
        "colab": {
          "base_uri": "https://localhost:8080/",
          "height": 206
        },
        "id": "lkJhPR8XynNU",
        "outputId": "f163b833-63c8-4988-e6fe-23f1bca90ca4"
      },
      "execution_count": null,
      "outputs": [
        {
          "output_type": "execute_result",
          "data": {
            "text/plain": [
              "   order_id  order_date  customer_id             city     province product_id  \\\n",
              "0   1703458  17/10/2019        14004  Jakarta Selatan  DKI Jakarta      P1910   \n",
              "1   1706815  24/10/2019        17220  Jakarta Selatan  DKI Jakarta      P2934   \n",
              "2   1710718  03/11/2019        16518    Jakarta Utara  DKI Jakarta      P0908   \n",
              "3   1683592  19/08/2019        16364    Jakarta Barat  DKI Jakarta      P0128   \n",
              "4   1702573  16/10/2019        15696    Jakarta Timur  DKI Jakarta      P2968   \n",
              "\n",
              "     brand  quantity  item_price  \n",
              "0  BRAND_J      10.0    740000.0  \n",
              "1  BRAND_R       2.0    604000.0  \n",
              "2  BRAND_C       8.0   1045000.0  \n",
              "3  BRAND_A       4.0    205000.0  \n",
              "4  BRAND_R       2.0         NaN  "
            ],
            "text/html": [
              "\n",
              "  <div id=\"df-ee73e2a6-2464-4a77-8364-fa08175e9144\">\n",
              "    <div class=\"colab-df-container\">\n",
              "      <div>\n",
              "<style scoped>\n",
              "    .dataframe tbody tr th:only-of-type {\n",
              "        vertical-align: middle;\n",
              "    }\n",
              "\n",
              "    .dataframe tbody tr th {\n",
              "        vertical-align: top;\n",
              "    }\n",
              "\n",
              "    .dataframe thead th {\n",
              "        text-align: right;\n",
              "    }\n",
              "</style>\n",
              "<table border=\"1\" class=\"dataframe\">\n",
              "  <thead>\n",
              "    <tr style=\"text-align: right;\">\n",
              "      <th></th>\n",
              "      <th>order_id</th>\n",
              "      <th>order_date</th>\n",
              "      <th>customer_id</th>\n",
              "      <th>city</th>\n",
              "      <th>province</th>\n",
              "      <th>product_id</th>\n",
              "      <th>brand</th>\n",
              "      <th>quantity</th>\n",
              "      <th>item_price</th>\n",
              "    </tr>\n",
              "  </thead>\n",
              "  <tbody>\n",
              "    <tr>\n",
              "      <th>0</th>\n",
              "      <td>1703458</td>\n",
              "      <td>17/10/2019</td>\n",
              "      <td>14004</td>\n",
              "      <td>Jakarta Selatan</td>\n",
              "      <td>DKI Jakarta</td>\n",
              "      <td>P1910</td>\n",
              "      <td>BRAND_J</td>\n",
              "      <td>10.0</td>\n",
              "      <td>740000.0</td>\n",
              "    </tr>\n",
              "    <tr>\n",
              "      <th>1</th>\n",
              "      <td>1706815</td>\n",
              "      <td>24/10/2019</td>\n",
              "      <td>17220</td>\n",
              "      <td>Jakarta Selatan</td>\n",
              "      <td>DKI Jakarta</td>\n",
              "      <td>P2934</td>\n",
              "      <td>BRAND_R</td>\n",
              "      <td>2.0</td>\n",
              "      <td>604000.0</td>\n",
              "    </tr>\n",
              "    <tr>\n",
              "      <th>2</th>\n",
              "      <td>1710718</td>\n",
              "      <td>03/11/2019</td>\n",
              "      <td>16518</td>\n",
              "      <td>Jakarta Utara</td>\n",
              "      <td>DKI Jakarta</td>\n",
              "      <td>P0908</td>\n",
              "      <td>BRAND_C</td>\n",
              "      <td>8.0</td>\n",
              "      <td>1045000.0</td>\n",
              "    </tr>\n",
              "    <tr>\n",
              "      <th>3</th>\n",
              "      <td>1683592</td>\n",
              "      <td>19/08/2019</td>\n",
              "      <td>16364</td>\n",
              "      <td>Jakarta Barat</td>\n",
              "      <td>DKI Jakarta</td>\n",
              "      <td>P0128</td>\n",
              "      <td>BRAND_A</td>\n",
              "      <td>4.0</td>\n",
              "      <td>205000.0</td>\n",
              "    </tr>\n",
              "    <tr>\n",
              "      <th>4</th>\n",
              "      <td>1702573</td>\n",
              "      <td>16/10/2019</td>\n",
              "      <td>15696</td>\n",
              "      <td>Jakarta Timur</td>\n",
              "      <td>DKI Jakarta</td>\n",
              "      <td>P2968</td>\n",
              "      <td>BRAND_R</td>\n",
              "      <td>2.0</td>\n",
              "      <td>NaN</td>\n",
              "    </tr>\n",
              "  </tbody>\n",
              "</table>\n",
              "</div>\n",
              "      <button class=\"colab-df-convert\" onclick=\"convertToInteractive('df-ee73e2a6-2464-4a77-8364-fa08175e9144')\"\n",
              "              title=\"Convert this dataframe to an interactive table.\"\n",
              "              style=\"display:none;\">\n",
              "        \n",
              "  <svg xmlns=\"http://www.w3.org/2000/svg\" height=\"24px\"viewBox=\"0 0 24 24\"\n",
              "       width=\"24px\">\n",
              "    <path d=\"M0 0h24v24H0V0z\" fill=\"none\"/>\n",
              "    <path d=\"M18.56 5.44l.94 2.06.94-2.06 2.06-.94-2.06-.94-.94-2.06-.94 2.06-2.06.94zm-11 1L8.5 8.5l.94-2.06 2.06-.94-2.06-.94L8.5 2.5l-.94 2.06-2.06.94zm10 10l.94 2.06.94-2.06 2.06-.94-2.06-.94-.94-2.06-.94 2.06-2.06.94z\"/><path d=\"M17.41 7.96l-1.37-1.37c-.4-.4-.92-.59-1.43-.59-.52 0-1.04.2-1.43.59L10.3 9.45l-7.72 7.72c-.78.78-.78 2.05 0 2.83L4 21.41c.39.39.9.59 1.41.59.51 0 1.02-.2 1.41-.59l7.78-7.78 2.81-2.81c.8-.78.8-2.07 0-2.86zM5.41 20L4 18.59l7.72-7.72 1.47 1.35L5.41 20z\"/>\n",
              "  </svg>\n",
              "      </button>\n",
              "      \n",
              "  <style>\n",
              "    .colab-df-container {\n",
              "      display:flex;\n",
              "      flex-wrap:wrap;\n",
              "      gap: 12px;\n",
              "    }\n",
              "\n",
              "    .colab-df-convert {\n",
              "      background-color: #E8F0FE;\n",
              "      border: none;\n",
              "      border-radius: 50%;\n",
              "      cursor: pointer;\n",
              "      display: none;\n",
              "      fill: #1967D2;\n",
              "      height: 32px;\n",
              "      padding: 0 0 0 0;\n",
              "      width: 32px;\n",
              "    }\n",
              "\n",
              "    .colab-df-convert:hover {\n",
              "      background-color: #E2EBFA;\n",
              "      box-shadow: 0px 1px 2px rgba(60, 64, 67, 0.3), 0px 1px 3px 1px rgba(60, 64, 67, 0.15);\n",
              "      fill: #174EA6;\n",
              "    }\n",
              "\n",
              "    [theme=dark] .colab-df-convert {\n",
              "      background-color: #3B4455;\n",
              "      fill: #D2E3FC;\n",
              "    }\n",
              "\n",
              "    [theme=dark] .colab-df-convert:hover {\n",
              "      background-color: #434B5C;\n",
              "      box-shadow: 0px 1px 3px 1px rgba(0, 0, 0, 0.15);\n",
              "      filter: drop-shadow(0px 1px 2px rgba(0, 0, 0, 0.3));\n",
              "      fill: #FFFFFF;\n",
              "    }\n",
              "  </style>\n",
              "\n",
              "      <script>\n",
              "        const buttonEl =\n",
              "          document.querySelector('#df-ee73e2a6-2464-4a77-8364-fa08175e9144 button.colab-df-convert');\n",
              "        buttonEl.style.display =\n",
              "          google.colab.kernel.accessAllowed ? 'block' : 'none';\n",
              "\n",
              "        async function convertToInteractive(key) {\n",
              "          const element = document.querySelector('#df-ee73e2a6-2464-4a77-8364-fa08175e9144');\n",
              "          const dataTable =\n",
              "            await google.colab.kernel.invokeFunction('convertToInteractive',\n",
              "                                                     [key], {});\n",
              "          if (!dataTable) return;\n",
              "\n",
              "          const docLinkHtml = 'Like what you see? Visit the ' +\n",
              "            '<a target=\"_blank\" href=https://colab.research.google.com/notebooks/data_table.ipynb>data table notebook</a>'\n",
              "            + ' to learn more about interactive tables.';\n",
              "          element.innerHTML = '';\n",
              "          dataTable['output_type'] = 'display_data';\n",
              "          await google.colab.output.renderOutput(dataTable, element);\n",
              "          const docLink = document.createElement('div');\n",
              "          docLink.innerHTML = docLinkHtml;\n",
              "          element.appendChild(docLink);\n",
              "        }\n",
              "      </script>\n",
              "    </div>\n",
              "  </div>\n",
              "  "
            ]
          },
          "metadata": {},
          "execution_count": 3
        }
      ]
    },
    {
      "cell_type": "markdown",
      "source": [
        "# **Data Cleaning**"
      ],
      "metadata": {
        "id": "BqmiWoHCyC_L"
      }
    },
    {
      "cell_type": "markdown",
      "source": [
        "## **Handling Missing Values**"
      ],
      "metadata": {
        "id": "KIHyLfzcixCt"
      }
    },
    {
      "cell_type": "code",
      "source": [
        "# Check column that contains Missing Value\n",
        "print('Check:')\n",
        "print(df.isnull().any())\n",
        "\n",
        "# Filling the missing value (imputation) with the Mean / Mode value of the column\n",
        "print('\\nFill the missing value:')\n",
        "print(df['quantity'].fillna(df['quantity'].mean()))\n",
        "\n",
        "# Drop missing value\n",
        "print('\\nDrop missing value:')\n",
        "print(df['quantity'].dropna())\n",
        "\n",
        "# Drop the Row / Column that contains Missing Value (Don't use this method if it's possible)\n",
        "# If you want to drop the column, make sure that the Missing Values in that column is more than 50% of that column's data count\n",
        "# print(df.drop(['column_name'], axis=1))"
      ],
      "metadata": {
        "colab": {
          "base_uri": "https://localhost:8080/"
        },
        "id": "RD9S7HuViv6Z",
        "outputId": "a8ca794a-1b1a-48bf-fe91-2d558b139b72"
      },
      "execution_count": null,
      "outputs": [
        {
          "output_type": "stream",
          "name": "stdout",
          "text": [
            "Check:\n",
            "order_id       False\n",
            "order_date     False\n",
            "customer_id    False\n",
            "city            True\n",
            "province        True\n",
            "product_id      True\n",
            "brand          False\n",
            "quantity        True\n",
            "item_price      True\n",
            "dtype: bool\n",
            "\n",
            "Fill the missing value:\n",
            "0       10.0\n",
            "1        2.0\n",
            "2        8.0\n",
            "3        4.0\n",
            "4        2.0\n",
            "        ... \n",
            "4995     2.0\n",
            "4996     3.0\n",
            "4997     4.0\n",
            "4998     8.0\n",
            "4999     1.0\n",
            "Name: quantity, Length: 5000, dtype: float64\n",
            "\n",
            "Drop missing value:\n",
            "0       10.0\n",
            "1        2.0\n",
            "2        8.0\n",
            "3        4.0\n",
            "4        2.0\n",
            "        ... \n",
            "4995     2.0\n",
            "4996     3.0\n",
            "4997     4.0\n",
            "4998     8.0\n",
            "4999     1.0\n",
            "Name: quantity, Length: 4986, dtype: float64\n"
          ]
        }
      ]
    },
    {
      "cell_type": "markdown",
      "source": [
        "@**Notes:**\n",
        "1. `axis = 1` : Column / Vertical Axis\n",
        "2. `axis = 0` : Row / Horizontal Axis"
      ],
      "metadata": {
        "id": "ulXXHBopxonX"
      }
    },
    {
      "cell_type": "markdown",
      "source": [
        "# **Handling Outliers**"
      ],
      "metadata": {
        "id": "4Zz0HjxZyAev"
      }
    },
    {
      "cell_type": "markdown",
      "source": [
        "## **.boxplot()**\n",
        "\n",
        "Checking if there are any outliers in each datasets columns by visualization method using **.boxplot()** function."
      ],
      "metadata": {
        "id": "MR9zwtzi_5eX"
      }
    },
    {
      "cell_type": "code",
      "source": [
        "import matplotlib.pyplot as plt\n",
        "\n",
        "df.boxplot()\n",
        "plt.show()"
      ],
      "metadata": {
        "colab": {
          "base_uri": "https://localhost:8080/",
          "height": 445
        },
        "id": "r2atVPLz_vlY",
        "outputId": "f8b9d3ee-83a2-4b3f-b91f-fbd8f472ed93"
      },
      "execution_count": null,
      "outputs": [
        {
          "output_type": "display_data",
          "data": {
            "text/plain": [
              "<Figure size 640x480 with 1 Axes>"
            ],
            "image/png": "[encoded data removed]"
          },
          "metadata": {}
        }
      ]
    },
    {
      "cell_type": "markdown",
      "source": [
        "## **Example 1**"
      ],
      "metadata": {
        "id": "_oVY_hBT5_ed"
      }
    },
    {
      "cell_type": "code",
      "source": [
        "# Q1, Q3, dan IQR\n",
        "Q1 = df['quantity'].quantile(0.25)\n",
        "Q3 = df['quantity'].quantile(0.75)\n",
        "IQR = Q3 - Q1\n",
        "\n",
        "# Check shape\n",
        "print('Shape: ', df.shape)\n",
        "\n",
        "# Removing outliers\n",
        "df = df[~((df['quantity'] < (Q1 - 1.5 * IQR)) | (df['quantity'] > (Q3 + 1.5 * IQR)))]\n",
        "\n",
        "# Check shape after the outliers is removed\n",
        "print('Final Shape: ', df.shape)"
      ],
      "metadata": {
        "id": "z4L_ASWIv47A",
        "colab": {
          "base_uri": "https://localhost:8080/"
        },
        "outputId": "74e5ae07-a77b-40c0-91d7-7cb903c3bdd9"
      },
      "execution_count": null,
      "outputs": [
        {
          "output_type": "stream",
          "name": "stdout",
          "text": [
            "Shape:  (5000, 9)\n",
            "Final Shape:  (4699, 9)\n"
          ]
        }
      ]
    },
    {
      "cell_type": "markdown",
      "source": [
        "## **Example 2**"
      ],
      "metadata": {
        "id": "D7ip8cjd6B4K"
      }
    },
    {
      "cell_type": "code",
      "source": [
        "Q1x = df['item_price'].quantile(0.25)\n",
        "Q3x = df['item_price'].quantile(0.75)\n",
        "IQRx = Q3x - Q1x\n",
        "\n",
        "# Checking how many outliers in 'item_price' column\n",
        "# print(df[((df['item_price'] < (Q1x - 1.5 * IQRx)) | (df['item_price'] > (Q3x + 1.5 * IQRx)))])\n",
        "# Result : 320 rows contain Missing Values in 'item_price' column\n",
        "\n",
        "# Remove outliers in 'item_price' column\n",
        "dfx = df[~((df['item_price'] < (Q1x - 1.5 * IQRx)) | (df['item_price'] > (Q3x + 1.5 * IQRx)))]\n",
        "\n",
        "# Check shape after the outliers is removed\n",
        "print('Final Shape: ', dfx.shape)"
      ],
      "metadata": {
        "colab": {
          "base_uri": "https://localhost:8080/"
        },
        "id": "Bv9TzZeI33_v",
        "outputId": "7763bafe-02b5-444c-9822-5cc07f741c6d"
      },
      "execution_count": null,
      "outputs": [
        {
          "output_type": "stream",
          "name": "stdout",
          "text": [
            "Final Shape:  (4379, 9)\n"
          ]
        }
      ]
    },
    {
      "cell_type": "markdown",
      "source": [
        "## **Final Result**"
      ],
      "metadata": {
        "id": "RgeIBQufAxvW"
      }
    },
    {
      "cell_type": "code",
      "source": [
        "dfx.boxplot()\n",
        "plt.show()"
      ],
      "metadata": {
        "colab": {
          "base_uri": "https://localhost:8080/",
          "height": 445
        },
        "id": "HXD6NuyUAvNd",
        "outputId": "89bdb948-9f50-4e91-ae0d-4121cb94d707"
      },
      "execution_count": null,
      "outputs": [
        {
          "output_type": "display_data",
          "data": {
            "text/plain": [
              "<Figure size 640x480 with 1 Axes>"
            ],
            "image/png": "[encoded data removed]"
          },
          "metadata": {}
        }
      ]
    },
    {
      "cell_type": "markdown",
      "source": [
        "# **Handling Duplicated Data**\n",
        "\n",
        "Duplicated Data : Rows that contain the same value in all of its columns."
      ],
      "metadata": {
        "id": "V4HsGA9v6_E-"
      }
    },
    {
      "cell_type": "code",
      "source": [
        "# Check if there are data duplicates in the dataset\n",
        "print(\"Duplicated Data in the Dataset: \", df.duplicated(subset=None))\n",
        "print(\"Shape:\", df.shape)\n",
        "\n",
        "# Drop all duplicate rows\n",
        "df.drop_duplicates()\n",
        "\n",
        "print(\"Final Shape:\", df.shape)"
      ],
      "metadata": {
        "colab": {
          "base_uri": "https://localhost:8080/"
        },
        "id": "cufE5UaH7Lz8",
        "outputId": "7dc59003-19eb-4662-ea82-39bce75f7829"
      },
      "execution_count": null,
      "outputs": [
        {
          "output_type": "stream",
          "name": "stdout",
          "text": [
            "Duplicated Data in the Dataset:  0       False\n",
            "1       False\n",
            "2       False\n",
            "3       False\n",
            "4       False\n",
            "        ...  \n",
            "4995    False\n",
            "4996    False\n",
            "4997    False\n",
            "4998    False\n",
            "4999    False\n",
            "Length: 4699, dtype: bool\n",
            "Shape: (4699, 9)\n",
            "Final Shape: (4699, 9)\n"
          ]
        }
      ]
    }
  ]
}