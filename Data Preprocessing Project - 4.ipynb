{
  "nbformat": 4,
  "nbformat_minor": 0,
  "metadata": {
    "colab": {
      "provenance": []
    },
    "kernelspec": {
      "name": "python3",
      "display_name": "Python 3"
    },
    "language_info": {
      "name": "python"
    }
  },
  "cells": [
    {
      "cell_type": "markdown",
      "source": [
        "# **DATA CLEANING PROJECT - 1**"
      ],
      "metadata": {
        "id": "wZcQLqdMdta7"
      }
    },
    {
      "cell_type": "markdown",
      "source": [
        "**Project Details**\n",
        "\n",
        "| | Details |\n",
        "|----------|---------|\n",
        "| Author   | Alfrethanov Christian Wijaya |\n",
        "| Dataset  | telco-dataset.csv |\n",
        "| Goal     | Perform Data Cleaning for a Telecommunication or Communication Service Provider (CSP) Company dataset. |\n",
        "\n",
        "<br>\n",
        "\n",
        "**Data Details**\n",
        "\n",
        "| Column Name     | Description                                                       |\n",
        "|-----------------|-------------------------------------------------------------------|\n",
        "| UpdatedAt       | The period when the data was taken                                |\n",
        "| customerID      | Unique identifier for each customer                                |\n",
        "| gender          | The customer's gender (Male, Female)                               |\n",
        "| SeniorCitizen   | Whether the customer is a senior citizen or not (1 for yes, 0 for no)|\n",
        "| Partner         | Whether the customer has a partner or not (Yes, No)                |\n",
        "| Dependents      | Whether the customer has dependents or not (Yes, No)               |\n",
        "| tenure          | Number of months the customer has stayed with the company          |\n",
        "| PhoneService    | Whether the customer has a phone service or not (Yes, No)           |\n",
        "| MultipleLines   | Whether the customer has multiple lines or not (Yes, No, No phone service)|\n",
        "| InternetService | The customer's internet service provider (DSL, Fiber optic, No)     |\n",
        "| OnlineSecurity  | Whether the customer has online security or not (Yes, No, No internet service)|\n",
        "| OnlineBackup    | Whether the customer has online backup or not (Yes, No, No internet service)|\n",
        "| DeviceProtection| Whether the customer has device protection or not (Yes, No, No internet service)|\n",
        "| TechSupport     | Whether the customer has tech support or not (Yes, No, No internet service)|\n",
        "| StreamingTV     | Whether the customer has streaming TV or not (Yes, No, No internet service)|\n",
        "| StreamingMovies | Whether the customer has streaming movies or not (Yes, No, No internet service)|\n",
        "| Contract        | The contract term of the customer (Month-to-month, One year, Two year)|\n",
        "| PaperlessBilling| Whether the customer has paperless billing or not (Yes, No)        |\n",
        "| PaymentMethod   | The customer's payment method (Electronic check, Mailed check, Bank transfer (automatic), Credit card (automatic))|\n",
        "| MonthlyCharges  | The amount charged to the customer monthly                         |\n",
        "| TotalCharges    | The total amount charged to the customer                           |\n",
        "| Churn           | Whether the customer churned or not (Yes or No)                    |"
      ],
      "metadata": {
        "id": "ScSMHVrkcQfl"
      }
    },
    {
      "cell_type": "markdown",
      "source": [
        "---\n",
        "\n",
        "<center>\n",
        "\n",
        "# **START**\n",
        "\n",
        "</center>\n",
        "\n",
        "---"
      ],
      "metadata": {
        "id": "tcg4KY4DcnRz"
      }
    },
    {
      "cell_type": "markdown",
      "source": [
        "# **Importing Library**"
      ],
      "metadata": {
        "id": "u1OTszWbKJnQ"
      }
    },
    {
      "cell_type": "code",
      "source": [
        "# Import Libraries\n",
        "import pandas as pd"
      ],
      "metadata": {
        "id": "VgqFjuwz-ObE"
      },
      "execution_count": null,
      "outputs": []
    },
    {
      "cell_type": "markdown",
      "source": [
        "# **Import Dataset**"
      ],
      "metadata": {
        "id": "rn4NjT6G-Wmj"
      }
    },
    {
      "cell_type": "code",
      "source": [
        "# Import Dataset\n",
        "df = pd.read_csv('telco-dataset.csv')"
      ],
      "metadata": {
        "id": "Y0df9JMx-YKz"
      },
      "execution_count": null,
      "outputs": []
    },
    {
      "cell_type": "markdown",
      "source": [
        "# **Data Cleaning / Preprocessing**"
      ],
      "metadata": {
        "id": "EuIk8DAj_QdZ"
      }
    },
    {
      "cell_type": "code",
      "source": [
        "# Shape (Rows x Columns)\n",
        "print('Rows x Columns: ', df.shape)\n",
        "\n",
        "# Show Dataset\n",
        "print('\\nTELCO DATASET:\\n', df.head(5))\n",
        "\n",
        "# Numbers of Unique values in 'customerID' column\n",
        "print('\\nUnique Values in customerID: ', df.customerID.nunique())"
      ],
      "metadata": {
        "colab": {
          "base_uri": "https://localhost:8080/"
        },
        "id": "ul4TnOcv_UM7",
        "outputId": "76877a76-2243-454d-89ed-1f83bb57cb7e"
      },
      "execution_count": null,
      "outputs": [
        {
          "output_type": "stream",
          "name": "stdout",
          "text": [
            "Rows x Columns:  (7113, 22)\n",
            "\n",
            "TELCO DATASET:\n",
            "    UpdatedAt   customerID  gender  SeniorCitizen Partner Dependents  tenure  \\\n",
            "0     202006  45759018157  Female              0     Yes         No     1.0   \n",
            "1     202006  45557574145    Male              0      No         No    34.0   \n",
            "2     202006  45366876421    Male              0      No         No     2.0   \n",
            "3     202006  45779536532    Male              0      No         No    45.0   \n",
            "4     202006  45923787906  Female              0      No         No     2.0   \n",
            "\n",
            "  PhoneService     MultipleLines InternetService  ... DeviceProtection  \\\n",
            "0           No  No phone service             DSL  ...               No   \n",
            "1          Yes                No             DSL  ...              Yes   \n",
            "2          Yes                No             DSL  ...               No   \n",
            "3           No  No phone service             DSL  ...              Yes   \n",
            "4          Yes                No     Fiber optic  ...               No   \n",
            "\n",
            "  TechSupport StreamingTV StreamingMovies        Contract PaperlessBilling  \\\n",
            "0          No          No              No  Month-to-month              Yes   \n",
            "1          No          No              No        One year               No   \n",
            "2          No          No              No  Month-to-month              Yes   \n",
            "3         Yes          No              No        One year               No   \n",
            "4          No          No              No  Month-to-month              Yes   \n",
            "\n",
            "               PaymentMethod MonthlyCharges TotalCharges  Churn  \n",
            "0           Electronic check          29.85        29.85     No  \n",
            "1               Mailed check          56.95      1889.50     No  \n",
            "2               Mailed check          53.85       108.15    Yes  \n",
            "3  Bank transfer (automatic)          42.30      1840.75     No  \n",
            "4           Electronic check          70.70       151.65    Yes  \n",
            "\n",
            "[5 rows x 22 columns]\n",
            "\n",
            "Unique Values in customerID:  7017\n"
          ]
        }
      ]
    },
    {
      "cell_type": "markdown",
      "source": [
        "## **Filtering 'customerID' column**"
      ],
      "metadata": {
        "id": "z-cXO8J8Cumu"
      }
    },
    {
      "cell_type": "markdown",
      "source": [
        "Customers ID criteria :\n",
        "1. The character length is 11-12.\n",
        "2. Consists of digits only, no characters other than digits are allowed.\n",
        "3. Starts with the number 45 in the first two digits."
      ],
      "metadata": {
        "id": "udHMS12JKF9e"
      }
    },
    {
      "cell_type": "code",
      "source": [
        "# Creating new column named 'valid_id' that specify each of the customerID's format is True or False in 'customerID' column\n",
        "df['valid_id'] = df['customerID'].astype(str).str.match(r'(45\\d{9,10})')\n",
        "\n",
        "print('Column \"valid_id\" created\\n', df[['customerID','valid_id']].head(), '\\n')\n",
        "\n",
        "# Take only the right customer's ID format and Dropping the 'valid_id' column because we'll only use it this once\n",
        "df = (df[df['valid_id'] == True]).drop('valid_id', axis=1)\n",
        "\n",
        "print('Final customerID :', df['customerID'].count())"
      ],
      "metadata": {
        "colab": {
          "base_uri": "https://localhost:8080/"
        },
        "id": "i8IthsMfABUp",
        "outputId": "2130e866-584c-4b80-bbdd-621adbcd74e2"
      },
      "execution_count": null,
      "outputs": [
        {
          "output_type": "stream",
          "name": "stdout",
          "text": [
            "Column \"valid_id\" created\n",
            "     customerID  valid_id\n",
            "0  45759018157      True\n",
            "1  45557574145      True\n",
            "2  45366876421      True\n",
            "3  45779536532      True\n",
            "4  45923787906      True \n",
            "\n",
            "Final customerID : 7006\n"
          ]
        }
      ]
    },
    {
      "cell_type": "markdown",
      "source": [
        "## **Drop Duplicates**"
      ],
      "metadata": {
        "id": "QyqbdCQGOq34"
      }
    },
    {
      "cell_type": "markdown",
      "source": [
        "Goals :\n",
        "1. Dropping all duplicate rows\n",
        "2. Dropping all duplicate Customers ID sorted by the latest inputted Customers ID"
      ],
      "metadata": {
        "id": "84s4puRGON4g"
      }
    },
    {
      "cell_type": "code",
      "source": [
        "# Dropping all duplicate Rows\n",
        "df.drop_duplicates()\n",
        "\n",
        "# Dropping duplicate Customers ID sorted by the latest inputted Customers ID\n",
        "df = df.sort_values('UpdatedAt', ascending=False).drop_duplicates(['customerID'])\n",
        "\n",
        "print('Final customerID :',df['customerID'].count())"
      ],
      "metadata": {
        "colab": {
          "base_uri": "https://localhost:8080/"
        },
        "id": "Yzyv9Hd2ND0j",
        "outputId": "2d0e54d5-8911-4aac-d955-0012c646a9ac"
      },
      "execution_count": null,
      "outputs": [
        {
          "output_type": "stream",
          "name": "stdout",
          "text": [
            "Final customerID : 6993\n"
          ]
        }
      ]
    },
    {
      "cell_type": "markdown",
      "source": [
        "## **Handling Missing Values**"
      ],
      "metadata": {
        "id": "8Hk2Vh2rO0ix"
      }
    },
    {
      "cell_type": "markdown",
      "source": [
        "### **.dropna()**"
      ],
      "metadata": {
        "id": "Hq8F9k_eWjOH"
      }
    },
    {
      "cell_type": "markdown",
      "source": [
        "Dropping all Missing Values in **Churn** column with `.dropna()` function"
      ],
      "metadata": {
        "id": "QDblIJOqO0zp"
      }
    },
    {
      "cell_type": "code",
      "source": [
        "print('Total missing values in \"Churn\" column ', df['Churn'].isnull().sum())\n",
        "\n",
        "# Dropping all Rows that contains missing values in 'Churn' column\n",
        "df.dropna(subset=['Churn'], inplace=True)\n",
        "\n",
        "print('Final Total Rows and Columns of the dataset ', df.shape)"
      ],
      "metadata": {
        "colab": {
          "base_uri": "https://localhost:8080/"
        },
        "id": "K4d8bvZ7Oz-g",
        "outputId": "6a333682-e36f-4af1-a3f4-d2d13ddc05da"
      },
      "execution_count": null,
      "outputs": [
        {
          "output_type": "stream",
          "name": "stdout",
          "text": [
            "Total missing values in \"Churn\" column  43\n",
            "Final Total Rows and Columns of the dataset  (6950, 22)\n"
          ]
        }
      ]
    },
    {
      "cell_type": "markdown",
      "source": [
        "`inplace = True`\n",
        "\n",
        "--> Decides that the changes will be applied in the original dataset\n",
        "\n",
        "`inplace = False`\n",
        "\n",
        "--> Decides that the changes will not be applied in the original dataset and returns a new copy of dataset"
      ],
      "metadata": {
        "id": "aFYvjqFtSXdM"
      }
    },
    {
      "cell_type": "markdown",
      "source": [
        "### **.fillna()**"
      ],
      "metadata": {
        "id": "ZoET2CPRWfPI"
      }
    },
    {
      "cell_type": "markdown",
      "source": [
        "Filling the Missing Values in every columns that contains Missing Values with `.fillna()` function.\n",
        "\n",
        "@Notes: Fill the Missing Values in **tenure** column with 11 (request from the Data Modeller division)\n",
        "\n",
        "Determine :\n",
        "\n",
        "1. Whether there are still missing values in the data.\n",
        "2. The number of missing values for each variable.\n",
        "3. Handle the missing values."
      ],
      "metadata": {
        "id": "67YQXdHDWfGn"
      }
    },
    {
      "cell_type": "code",
      "source": [
        "print('Missing Values Status :',df.isnull().values.any())\n",
        "print('\\nSum of Missing Values in each columns are:')\n",
        "print(df.isnull().sum().sort_values(ascending=False))\n",
        "\n",
        "# Filling the missing values in 'tenure' column with 11\n",
        "df['tenure'].fillna(11, inplace=True)\n",
        "\n",
        "# Handling missing values in numerical columns\n",
        "for col_name in list(['MonthlyCharges','TotalCharges']):\n",
        "\tmedian = df[col_name].median()\n",
        "\tdf[col_name].fillna(median, inplace=True)\n",
        "\n",
        "print('\\nThe number of Missing Values after imputing the data is:')\n",
        "print(df.isnull().sum().sort_values(ascending=False))"
      ],
      "metadata": {
        "colab": {
          "base_uri": "https://localhost:8080/"
        },
        "id": "Q7C9icoCWe7v",
        "outputId": "90cbd7ef-e02c-41f8-e267-4c0fb989ca1f"
      },
      "execution_count": null,
      "outputs": [
        {
          "output_type": "stream",
          "name": "stdout",
          "text": [
            "Missing Values Status : True\n",
            "\n",
            "Sum of Missing Values in each columns are:\n",
            "tenure              99\n",
            "MonthlyCharges      26\n",
            "TotalCharges        15\n",
            "UpdatedAt            0\n",
            "DeviceProtection     0\n",
            "PaymentMethod        0\n",
            "PaperlessBilling     0\n",
            "Contract             0\n",
            "StreamingMovies      0\n",
            "StreamingTV          0\n",
            "TechSupport          0\n",
            "OnlineBackup         0\n",
            "customerID           0\n",
            "OnlineSecurity       0\n",
            "InternetService      0\n",
            "MultipleLines        0\n",
            "PhoneService         0\n",
            "Dependents           0\n",
            "Partner              0\n",
            "SeniorCitizen        0\n",
            "gender               0\n",
            "Churn                0\n",
            "dtype: int64\n",
            "\n",
            "The number of Missing Values after imputing the data is:\n",
            "UpdatedAt           0\n",
            "customerID          0\n",
            "TotalCharges        0\n",
            "MonthlyCharges      0\n",
            "PaymentMethod       0\n",
            "PaperlessBilling    0\n",
            "Contract            0\n",
            "StreamingMovies     0\n",
            "StreamingTV         0\n",
            "TechSupport         0\n",
            "DeviceProtection    0\n",
            "OnlineBackup        0\n",
            "OnlineSecurity      0\n",
            "InternetService     0\n",
            "MultipleLines       0\n",
            "PhoneService        0\n",
            "tenure              0\n",
            "Dependents          0\n",
            "Partner             0\n",
            "SeniorCitizen       0\n",
            "gender              0\n",
            "Churn               0\n",
            "dtype: int64\n"
          ]
        }
      ]
    },
    {
      "cell_type": "markdown",
      "source": [
        "## **Handling Outliers**"
      ],
      "metadata": {
        "id": "EEeKfM2tQWWB"
      }
    },
    {
      "cell_type": "markdown",
      "source": [
        "### **Boxplot**"
      ],
      "metadata": {
        "id": "Z_QagYE3Qg4v"
      }
    },
    {
      "cell_type": "markdown",
      "source": [
        "Detecting outliers with `.boxplot()` function from Seaborn library"
      ],
      "metadata": {
        "id": "2KQddTSpQx3L"
      }
    },
    {
      "cell_type": "code",
      "source": [
        "print('Column statistical value: ')\n",
        "print(df[['tenure','MonthlyCharges','TotalCharges']].describe())\n",
        "\n",
        "# Import Libraries\n",
        "import matplotlib.pyplot as plt\n",
        "import seaborn as sns\n",
        "\n",
        "# Outlier in 'tenure' column\n",
        "plt.figure()\n",
        "sns.boxplot(x=df['tenure'])\n",
        "plt.title('Tenure')\n",
        "plt.show()\n",
        "\n",
        "# Outlier in 'tenure' column\n",
        "plt.figure()\n",
        "sns.boxplot(x=df['MonthlyCharges'])\n",
        "plt.title('Monthly Charges')\n",
        "plt.show()\n",
        "\n",
        "# Outlier in 'tenure' column\n",
        "plt.figure()\n",
        "sns.boxplot(x=df['TotalCharges'])\n",
        "plt.title('Total Charges')\n",
        "plt.show()"
      ],
      "metadata": {
        "colab": {
          "base_uri": "https://localhost:8080/",
          "height": 1000
        },
        "id": "9rviEFeVKQ83",
        "outputId": "c6fbce07-a5c0-4eaf-c2ec-19680779eb5b"
      },
      "execution_count": null,
      "outputs": [
        {
          "output_type": "stream",
          "name": "stdout",
          "text": [
            "Column statistical value: \n",
            "            tenure  MonthlyCharges  TotalCharges\n",
            "count  6950.000000     6950.000000   6950.000000\n",
            "mean     32.477266       65.783741   2305.083460\n",
            "std      25.188910       50.457871   2578.651143\n",
            "min       0.000000        0.000000     19.000000\n",
            "25%       9.000000       36.462500    406.975000\n",
            "50%      29.000000       70.450000   1400.850000\n",
            "75%      55.000000       89.850000   3799.837500\n",
            "max     500.000000     2311.000000  80000.000000\n"
          ]
        },
        {
          "output_type": "display_data",
          "data": {
            "text/plain": [
              "<Figure size 640x480 with 1 Axes>"
            ],
            "image/png": "[encoded data removed]"
          },
          "metadata": {}
        },
        {
          "output_type": "display_data",
          "data": {
            "text/plain": [
              "<Figure size 640x480 with 1 Axes>"
            ],
            "image/png": "[encoded data removed]"
          },
          "metadata": {}
        },
        {
          "output_type": "display_data",
          "data": {
            "text/plain": [
              "<Figure size 640x480 with 1 Axes>"
            ],
            "image/png": "[encoded data removed]"
          },
          "metadata": {}
        }
      ]
    },
    {
      "cell_type": "markdown",
      "source": [
        "### **Replacing Outliers**"
      ],
      "metadata": {
        "id": "4XUoOlJfwcb5"
      }
    },
    {
      "cell_type": "markdown",
      "source": [
        "Replacing outliers with the **Maximum** / **Minimum** value of each columns that contain outliers"
      ],
      "metadata": {
        "id": "s0ipK7gSwjI0"
      }
    },
    {
      "cell_type": "code",
      "source": [
        "# Handling outliers with IQR\n",
        "# Q1 of tenure, MonthlyCharges, and TotalCharges\n",
        "Q1 = (df[['tenure','MonthlyCharges','TotalCharges']]).quantile(0.25)\n",
        "# Q3 of tenure, MonthlyCharges, and TotalCharges\n",
        "Q3 = (df[['tenure','MonthlyCharges','TotalCharges']]).quantile(0.75)\n",
        "\n",
        "# IQR Formula\n",
        "IQR = Q3 - Q1\n",
        "\n",
        "# Maximum value of each columns (tenure, MonthlyCharges, TotalCharges)\n",
        "maximum = Q3 + (1.5*IQR)\n",
        "print('The maximum value of each columns: ')\n",
        "print(maximum)\n",
        "\n",
        "# Minimum value of each columns (tenure, MonthlyCharges, TotalCharges)\n",
        "minimum = Q1 - (1.5*IQR)\n",
        "print('\\nThe minimum value of each columns: ')\n",
        "print(minimum)\n",
        "\n",
        "# Outliers above the maximum value of each columns\n",
        "more_than = (df > maximum)\n",
        "# Outliers below the minimum value of each columns\n",
        "lower_than = (df < minimum)\n",
        "\n",
        "# Replacing the outliers with the Maximum / Minimum value of each columns\n",
        "df = df.mask(more_than, maximum, axis=1)\n",
        "df = df.mask(lower_than, minimum, axis=1)\n",
        "\n",
        "print('\\nThe data distributions after removing the outliers: ')\n",
        "print(df[['tenure','MonthlyCharges','TotalCharges']].describe())"
      ],
      "metadata": {
        "colab": {
          "base_uri": "https://localhost:8080/"
        },
        "id": "pzIZJ1B0vSy1",
        "outputId": "1e30fada-639f-4166-c227-85c10e7dfb50"
      },
      "execution_count": null,
      "outputs": [
        {
          "output_type": "stream",
          "name": "stdout",
          "text": [
            "The maximum value of each columns: \n",
            "tenure             124.00000\n",
            "MonthlyCharges     169.93125\n",
            "TotalCharges      8889.13125\n",
            "dtype: float64\n",
            "\n",
            "The minimum value of each columns: \n",
            "tenure             -60.00000\n",
            "MonthlyCharges     -43.61875\n",
            "TotalCharges     -4682.31875\n",
            "dtype: float64\n",
            "\n",
            "The data distributions after removing the outliers: \n",
            "            tenure  MonthlyCharges  TotalCharges\n",
            "count  6950.000000     6950.000000   6950.000000\n",
            "mean     32.423165       64.992201   2286.058750\n",
            "std      24.581073       30.032040   2265.702553\n",
            "min       0.000000        0.000000     19.000000\n",
            "25%       9.000000       36.462500    406.975000\n",
            "50%      29.000000       70.450000   1400.850000\n",
            "75%      55.000000       89.850000   3799.837500\n",
            "max     124.000000      169.931250   8889.131250\n"
          ]
        },
        {
          "output_type": "stream",
          "name": "stderr",
          "text": [
            "<ipython-input-9-c351194251fa>:21: FutureWarning: Automatic reindexing on DataFrame vs Series comparisons is deprecated and will raise ValueError in a future version. Do `left, right = left.align(right, axis=1, copy=False)` before e.g. `left == right`\n",
            "  more_than = (df > maximum)\n",
            "<ipython-input-9-c351194251fa>:23: FutureWarning: Automatic reindexing on DataFrame vs Series comparisons is deprecated and will raise ValueError in a future version. Do `left, right = left.align(right, axis=1, copy=False)` before e.g. `left == right`\n",
            "  lower_than = (df < minimum)\n"
          ]
        }
      ]
    },
    {
      "cell_type": "markdown",
      "source": [
        "## **Standardization**"
      ],
      "metadata": {
        "id": "2YSTeVRk3vWa"
      }
    },
    {
      "cell_type": "markdown",
      "source": [
        "### **Unstandardized Values Detection**"
      ],
      "metadata": {
        "id": "GH4QUN5N4Ek7"
      }
    },
    {
      "cell_type": "markdown",
      "source": [
        "In the process of **Standardization**, the first step is to check for any unique values that should not be present, especially in the categorical columns. The unique values that should not be present refer to **unstandardized values**."
      ],
      "metadata": {
        "id": "Yt6k_4ml4ctB"
      }
    },
    {
      "cell_type": "code",
      "source": [
        "for col_name in list(['gender','SeniorCitizen','Partner','Dependents','PhoneService','MultipleLines','InternetService',\n",
        "                      'OnlineSecurity','OnlineBackup','DeviceProtection','TechSupport','StreamingTV','StreamingMovies',\n",
        "                      'Contract','PaperlessBilling','PaymentMethod','Churn']):\n",
        "  print('\\nUnique Values Count \\033[1m' + 'Before Standardized\\033[0m for',col_name,'column')\n",
        "  print(df[col_name].value_counts())"
      ],
      "metadata": {
        "colab": {
          "base_uri": "https://localhost:8080/"
        },
        "id": "Qkmdd6Y63Yba",
        "outputId": "cd67cd40-579d-4148-b058-419940ae4be7"
      },
      "execution_count": null,
      "outputs": [
        {
          "output_type": "stream",
          "name": "stdout",
          "text": [
            "\n",
            "Unique Values Count \u001b[1mBefore Standardized\u001b[0m for gender column\n",
            "Male         3499\n",
            "Female       3431\n",
            "Wanita         14\n",
            "Laki-Laki       6\n",
            "Name: gender, dtype: int64\n",
            "\n",
            "Unique Values Count \u001b[1mBefore Standardized\u001b[0m for SeniorCitizen column\n",
            "0    5822\n",
            "1    1128\n",
            "Name: SeniorCitizen, dtype: int64\n",
            "\n",
            "Unique Values Count \u001b[1mBefore Standardized\u001b[0m for Partner column\n",
            "No     3591\n",
            "Yes    3359\n",
            "Name: Partner, dtype: int64\n",
            "\n",
            "Unique Values Count \u001b[1mBefore Standardized\u001b[0m for Dependents column\n",
            "No     4870\n",
            "Yes    2060\n",
            "Iya      20\n",
            "Name: Dependents, dtype: int64\n",
            "\n",
            "Unique Values Count \u001b[1mBefore Standardized\u001b[0m for PhoneService column\n",
            "Yes    6281\n",
            "No      669\n",
            "Name: PhoneService, dtype: int64\n",
            "\n",
            "Unique Values Count \u001b[1mBefore Standardized\u001b[0m for MultipleLines column\n",
            "No                  3346\n",
            "Yes                 2935\n",
            "No phone service     669\n",
            "Name: MultipleLines, dtype: int64\n",
            "\n",
            "Unique Values Count \u001b[1mBefore Standardized\u001b[0m for InternetService column\n",
            "Fiber optic    3057\n",
            "DSL            2388\n",
            "No             1505\n",
            "Name: InternetService, dtype: int64\n",
            "\n",
            "Unique Values Count \u001b[1mBefore Standardized\u001b[0m for OnlineSecurity column\n",
            "No                     3454\n",
            "Yes                    1991\n",
            "No internet service    1505\n",
            "Name: OnlineSecurity, dtype: int64\n",
            "\n",
            "Unique Values Count \u001b[1mBefore Standardized\u001b[0m for OnlineBackup column\n",
            "No                     3045\n",
            "Yes                    2400\n",
            "No internet service    1505\n",
            "Name: OnlineBackup, dtype: int64\n",
            "\n",
            "Unique Values Count \u001b[1mBefore Standardized\u001b[0m for DeviceProtection column\n",
            "No                     3054\n",
            "Yes                    2391\n",
            "No internet service    1505\n",
            "Name: DeviceProtection, dtype: int64\n",
            "\n",
            "Unique Values Count \u001b[1mBefore Standardized\u001b[0m for TechSupport column\n",
            "No                     3431\n",
            "Yes                    2014\n",
            "No internet service    1505\n",
            "Name: TechSupport, dtype: int64\n",
            "\n",
            "Unique Values Count \u001b[1mBefore Standardized\u001b[0m for StreamingTV column\n",
            "No                     2774\n",
            "Yes                    2671\n",
            "No internet service    1505\n",
            "Name: StreamingTV, dtype: int64\n",
            "\n",
            "Unique Values Count \u001b[1mBefore Standardized\u001b[0m for StreamingMovies column\n",
            "No                     2747\n",
            "Yes                    2698\n",
            "No internet service    1505\n",
            "Name: StreamingMovies, dtype: int64\n",
            "\n",
            "Unique Values Count \u001b[1mBefore Standardized\u001b[0m for Contract column\n",
            "Month-to-month    3823\n",
            "Two year          1670\n",
            "One year          1457\n",
            "Name: Contract, dtype: int64\n",
            "\n",
            "Unique Values Count \u001b[1mBefore Standardized\u001b[0m for PaperlessBilling column\n",
            "Yes    4114\n",
            "No     2836\n",
            "Name: PaperlessBilling, dtype: int64\n",
            "\n",
            "Unique Values Count \u001b[1mBefore Standardized\u001b[0m for PaymentMethod column\n",
            "Electronic check             2337\n",
            "Mailed check                 1594\n",
            "Bank transfer (automatic)    1519\n",
            "Credit card (automatic)      1500\n",
            "Name: PaymentMethod, dtype: int64\n",
            "\n",
            "Unique Values Count \u001b[1mBefore Standardized\u001b[0m for Churn column\n",
            "No       5114\n",
            "Yes      1827\n",
            "Churn       9\n",
            "Name: Churn, dtype: int64\n"
          ]
        }
      ]
    },
    {
      "cell_type": "markdown",
      "source": [
        "### **Correcting the Unstandardized Values**"
      ],
      "metadata": {
        "id": "G-aAsok87xSb"
      }
    },
    {
      "cell_type": "markdown",
      "source": [
        "Upon identifying **unstandardized values** through the Unstandardized Values Detection process, it is necessary to rectify these values and ensure they are replaced with their correct meaning.\n",
        "\n",
        "<br>\n",
        "\n",
        "| Unstandardized | Standardized |\n",
        "|----------------|--------------|\n",
        "| Wanita | Female |\n",
        "| Laki-Laki | Male |\n",
        "| Churn | Yes |\n",
        "| Iya | Yes |"
      ],
      "metadata": {
        "id": "668dEFFd74uX"
      }
    },
    {
      "cell_type": "code",
      "source": [
        "# Replacing the unstandardized values into the correct values\n",
        "df = df.replace(['Wanita','Laki-Laki','Churn','Iya'],['Female','Male','Yes','Yes'])\n",
        "\n",
        "# Result\n",
        "for col_name in list(['gender','Dependents','Churn']):\n",
        "\tprint('\\nUnique Values Count \\033[1m' + 'After Standardized \\033[0mVariable',col_name)\n",
        "\tprint(df[col_name].value_counts())"
      ],
      "metadata": {
        "colab": {
          "base_uri": "https://localhost:8080/"
        },
        "id": "ynRR0Jkm7iUi",
        "outputId": "f0cb1757-83c8-4758-eb3b-ab8d9dcfb2b7"
      },
      "execution_count": null,
      "outputs": [
        {
          "output_type": "stream",
          "name": "stdout",
          "text": [
            "\n",
            "Unique Values Count \u001b[1mAfter Standardized \u001b[0mVariable gender\n",
            "Male      3505\n",
            "Female    3445\n",
            "Name: gender, dtype: int64\n",
            "\n",
            "Unique Values Count \u001b[1mAfter Standardized \u001b[0mVariable Dependents\n",
            "No     4870\n",
            "Yes    2080\n",
            "Name: Dependents, dtype: int64\n",
            "\n",
            "Unique Values Count \u001b[1mAfter Standardized \u001b[0mVariable Churn\n",
            "No     5114\n",
            "Yes    1836\n",
            "Name: Churn, dtype: int64\n"
          ]
        }
      ]
    }
  ]
}