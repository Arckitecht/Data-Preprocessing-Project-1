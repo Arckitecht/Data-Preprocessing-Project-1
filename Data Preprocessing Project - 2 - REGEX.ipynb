{
  "nbformat": 4,
  "nbformat_minor": 0,
  "metadata": {
    "colab": {
      "provenance": []
    },
    "kernelspec": {
      "name": "python3",
      "display_name": "Python 3"
    },
    "language_info": {
      "name": "python"
    }
  },
  "cells": [
    {
      "cell_type": "markdown",
      "source": [
        "**Project Details**\n",
        "\n",
        "| | Details |\n",
        "|----------|---------|\n",
        "| Author   | Alfrethanov Christian Wijaya |\n",
        "| Dataset  | regex-training.tsv |\n",
        "| Goal     | Data Analysis / Science training with regex (Regular Expression). |"
      ],
      "metadata": {
        "id": "RBBvOd72xO9U"
      }
    },
    {
      "cell_type": "markdown",
      "source": [
        "# **REGEX TRAINING**"
      ],
      "metadata": {
        "id": "wZcQLqdMdta7"
      }
    },
    {
      "cell_type": "markdown",
      "source": [
        "**Dataset :**\n",
        "\n",
        "regex-training.tsv (Tab Seperated Value)\n",
        "\n",
        "<br>\n",
        "\n",
        "**Goal :**\n",
        "\n",
        "Practicing regex (Regular Expression).\n",
        "\n",
        "<br>\n",
        "\n",
        "**Description :**\n",
        "\n",
        "This is the result of what I have learned about Regex from DQLab Academy."
      ],
      "metadata": {
        "id": "ScSMHVrkcQfl"
      }
    },
    {
      "cell_type": "markdown",
      "source": [
        "# **WHAT IS REGEX?**"
      ],
      "metadata": {
        "id": "nc9LERVdTkrW"
      }
    },
    {
      "cell_type": "markdown",
      "source": [
        "**DESCRIPTION**\n",
        "\n",
        "**Regular Expression**, often referred to as `regex` or `regexp`, is a sequence of special characters that defines a pattern for matching text. Regex is important when conducting data analysis or prediction because it is frequently used, especially in the Data Preprocessing step. Regex is commonly employed in matching, searching, and manipulating string/object data. Regex is case-sensitive, meaning it pays attention to uppercase and lowercase letters. However, if case sensitivity is to be ignored, the parameter \"case\" can be initialized as False (`case = False`).\n",
        "\n",
        "<br>\n",
        "\n",
        "--------\n",
        "<br>\n",
        "<center>\n",
        "\n",
        "**NOTATIONS in REGEX**\n",
        "\n",
        "| Notation | Notation Name | Purpose | Matching Text |\n",
        "|----------|---------------|--------------------------------------------------------|----------------------------------------------|\n",
        "| `.` | Wildcard | Matches any single character except newline | Regex (pa.i) will match padi, paTi, pa9i, etc. |\n",
        "| `?` | Optionality | The character before \"?\" is optional | Regex (Bid?jak) will match Bidjak or Bijak |\n",
        "| `+` | Repeatability | Repeats the preceding character with condition | Regex (go+L) will match goL, goooL, etc. |\n",
        "| `*` | Repeatability | Repeats the preceding character with optional condition | Regex (go*L) will match goL, gooooL, etc. |\n",
        "| `[]` | Choice / Set | Limits matching pattern to specified characters | Regex (mak[Ai]n) will match makAn or makin |\n",
        "| `-` | Range | Specifies a specific range of characters | Regex ([b-d]uka) will match buka, cuka, duka |\n",
        "| `^[]` | Complement | Indicates negation or opposite meaning | Regex (^[aiueo]) will match consonants |\n",
        "| `^` | Prefix | Matches the beginning of a string | Regex (^ayam) will match ayam goreng, etc. |\n",
        "| `$` | Suffix | Matches the end of a string | Regex (ayam$) will match kari ayam, etc. |\n",
        "| `{}` | Quantifier | Specifies required number of characters/groups/classes | Regex (he.{2}o) will match hello, herro, etc. |\n",
        "\n",
        "</center>\n",
        "<br>\n",
        "\n",
        "---\n",
        "<br>\n",
        "<center>\n",
        "\n",
        "**SETS and GROUPS**\n",
        "\n",
        "In regex, it is possible to combine various notations. However, it's not limited to that, it's also important to understand **sets** and **groups** in regex. Sets are a collection of characters enclosed in square brackets `[]` with special meanings, while groups or commonly known as capture and group are a collection of regex notations grouped together using opening and closing parentheses `()`. Consider the following example of sets:\n",
        "\n",
        "<br>\n",
        "\n",
        "| Notation | Description |\n",
        "|----------|----------------------------------------------------|\n",
        "| `[abc]` | The text will match if it contains a, b, or c. |\n",
        "| `[a-z]` | The text will match if it contains lowercase letters. |\n",
        "| `[A-Z]` | The text will match if it contains uppercase letters. |\n",
        "| `[a-zA-Z]` | The text will match if it contains both lowercase and uppercase letters. |\n",
        "| `[^a-z]` | The text will match with characters other than lowercase letters (negation). |\n",
        "| `[0-9]` | The text will match with numeric characters. |\n",
        "\n",
        "<br>\n",
        "\n",
        "`\\\\`\n",
        "\n",
        "`\\\\` is a regex notation that will return the value of a group. For example:\n",
        "\n",
        "There are two groups, which is `(0-9)-(a-b)`, then Group 1 `(0-9)` = `\\\\1` and Group 2 `(a-b)` = `\\\\2`.\n",
        "\n",
        "You can use \"`\\\\1` and `\\\\2`\" or \"`r'\\1'` and `r'\\2'`\".\n",
        "\n",
        "</center>\n",
        "<br>\n",
        "\n",
        "---\n",
        "<br>\n",
        "<center>\n",
        "\n",
        "**.contains()**\n",
        "\n",
        "The `.contains()` syntax in Python is used to test whether a word pattern or regex is present in a string or not. It returns True if there is a match and False if there is not. The parameters that can be used in the `.contains()` syntax are as follows:\n",
        "\n",
        "<br>\n",
        "\n",
        "| Parameter | Definition |\n",
        "|-----------|---------------------------------------------------------------|\n",
        "| `pat` | A string of characters or a regular expression pattern (*pat* = *pattern*) |\n",
        "| `case` | If initialized as True, it considers case sensitivity. If False, it ignores case sensitivity. |\n",
        "| `flags` | Flags to be passed to the re module (requires the re library, e.g., re.IGNORECASE) |\n",
        "| `na` | Fills missing values |\n",
        "| `regex` | If initialized as True, pat is treated as a regular expression. If False, pat is treated as a plain string. |\n",
        "\n",
        "<br>\n",
        "\n",
        "<small>**Notes**: The only required parameter to be initialized is `pat`, the rest do not need to be initialized\n",
        "\n",
        "as they already have default settings. So, adjust them according to your needs.</small>\n",
        "\n",
        "</center>\n",
        "<br>\n",
        "\n",
        "---\n",
        "<br>\n",
        "<center>\n",
        "\n",
        "**.replace()**\n",
        "\n",
        "The `.replace()` syntax in Python is used to replace one or more characters that need to be changed with another character or string. The parameters that can be used in the `.replace()` syntax are as follows:\n",
        "\n",
        "<br>\n",
        "\n",
        "| Parameter | Definition |\n",
        "|-----------|--------------------------------------------------------------|\n",
        "| `pat` | A sequence of characters or a regular expression pattern to be replaced |\n",
        "| `repl` | The text or character to replace with |\n",
        "| `n` | The maximum number of replacements to be made from the beginning (default = -1: meaning all occurrences will be replaced) |\n",
        "| `case` | If initialized as True, it considers case sensitivity. If False, it ignores case sensitivity. |\n",
        "| `flags` | Flags to be passed to the re module (requires the re library, e.g., re.IGNORECASE) |\n",
        "| `regex` | If initialized as True, pat is treated as a regular expression. If False, pat is treated as a plain string. |\n",
        "\n",
        "<br>\n",
        "\n",
        "<small>**Notes**: The required parameters to be initialized are only `pat` and `repl`, the rest do not need to be initialized\n",
        "\n",
        "as they already have default settings. So, adjust them according to your needs.</small>\n",
        "\n",
        "</center>\n",
        "<br>\n",
        "\n",
        "---"
      ],
      "metadata": {
        "id": "BiU2sN3uLCwt"
      }
    },
    {
      "cell_type": "markdown",
      "source": [
        "---\n",
        "\n",
        "<center>\n",
        "\n",
        "# **START**\n",
        "\n",
        "</center>\n",
        "\n",
        "---"
      ],
      "metadata": {
        "id": "tcg4KY4DcnRz"
      }
    },
    {
      "cell_type": "markdown",
      "source": [
        "# **Importing Library**"
      ],
      "metadata": {
        "id": "u1OTszWbKJnQ"
      }
    },
    {
      "cell_type": "code",
      "source": [
        "# Import Library\n",
        "import pandas as pd"
      ],
      "metadata": {
        "id": "rdNT-gWpTBSZ"
      },
      "execution_count": null,
      "outputs": []
    },
    {
      "cell_type": "markdown",
      "source": [
        "# **Importing Dataset**\n",
        "\n",
        "df = Dataset for Training\n",
        "\n",
        "df2 = Dataset for Implementing all of the Regex method that i've learned from Training"
      ],
      "metadata": {
        "id": "QWIYVk9sJ3bS"
      }
    },
    {
      "cell_type": "code",
      "source": [
        "# Import Dataset\n",
        "df = pd.read_csv(\"regex-training.tsv\", sep = '\\t')\n",
        "\n",
        "df2 = df.copy()"
      ],
      "metadata": {
        "id": "qXjyAQb5THw_"
      },
      "execution_count": null,
      "outputs": []
    },
    {
      "cell_type": "code",
      "source": [
        "df.head()"
      ],
      "metadata": {
        "colab": {
          "base_uri": "https://localhost:8080/",
          "height": 206
        },
        "id": "VLsznVvtTQ4f",
        "outputId": "2a43aba0-b4d8-4a40-bc9e-2fdb37f613d6"
      },
      "execution_count": null,
      "outputs": [
        {
          "output_type": "execute_result",
          "data": {
            "text/plain": [
              "   no_pencatatan tanggal_catat      kota jumlah_member staf_pencatat\n",
              "0              1    01-05-2020   Jakarta           311         Andra\n",
              "1              2    30-06-2020   Jakarta           1I2         Andra\n",
              "2              3    05/02/2020   Bandung           5S0        Antara\n",
              "3              4    06/28/2020   Bandung           670        Antara\n",
              "4              5    05/10/2020  Semarang           81O         Senja"
            ],
            "text/html": [
              "\n",
              "  <div id=\"df-fcf3bf27-252e-4e18-8149-47517fd5a037\">\n",
              "    <div class=\"colab-df-container\">\n",
              "      <div>\n",
              "<style scoped>\n",
              "    .dataframe tbody tr th:only-of-type {\n",
              "        vertical-align: middle;\n",
              "    }\n",
              "\n",
              "    .dataframe tbody tr th {\n",
              "        vertical-align: top;\n",
              "    }\n",
              "\n",
              "    .dataframe thead th {\n",
              "        text-align: right;\n",
              "    }\n",
              "</style>\n",
              "<table border=\"1\" class=\"dataframe\">\n",
              "  <thead>\n",
              "    <tr style=\"text-align: right;\">\n",
              "      <th></th>\n",
              "      <th>no_pencatatan</th>\n",
              "      <th>tanggal_catat</th>\n",
              "      <th>kota</th>\n",
              "      <th>jumlah_member</th>\n",
              "      <th>staf_pencatat</th>\n",
              "    </tr>\n",
              "  </thead>\n",
              "  <tbody>\n",
              "    <tr>\n",
              "      <th>0</th>\n",
              "      <td>1</td>\n",
              "      <td>01-05-2020</td>\n",
              "      <td>Jakarta</td>\n",
              "      <td>311</td>\n",
              "      <td>Andra</td>\n",
              "    </tr>\n",
              "    <tr>\n",
              "      <th>1</th>\n",
              "      <td>2</td>\n",
              "      <td>30-06-2020</td>\n",
              "      <td>Jakarta</td>\n",
              "      <td>1I2</td>\n",
              "      <td>Andra</td>\n",
              "    </tr>\n",
              "    <tr>\n",
              "      <th>2</th>\n",
              "      <td>3</td>\n",
              "      <td>05/02/2020</td>\n",
              "      <td>Bandung</td>\n",
              "      <td>5S0</td>\n",
              "      <td>Antara</td>\n",
              "    </tr>\n",
              "    <tr>\n",
              "      <th>3</th>\n",
              "      <td>4</td>\n",
              "      <td>06/28/2020</td>\n",
              "      <td>Bandung</td>\n",
              "      <td>670</td>\n",
              "      <td>Antara</td>\n",
              "    </tr>\n",
              "    <tr>\n",
              "      <th>4</th>\n",
              "      <td>5</td>\n",
              "      <td>05/10/2020</td>\n",
              "      <td>Semarang</td>\n",
              "      <td>81O</td>\n",
              "      <td>Senja</td>\n",
              "    </tr>\n",
              "  </tbody>\n",
              "</table>\n",
              "</div>\n",
              "      <button class=\"colab-df-convert\" onclick=\"convertToInteractive('df-fcf3bf27-252e-4e18-8149-47517fd5a037')\"\n",
              "              title=\"Convert this dataframe to an interactive table.\"\n",
              "              style=\"display:none;\">\n",
              "        \n",
              "  <svg xmlns=\"http://www.w3.org/2000/svg\" height=\"24px\"viewBox=\"0 0 24 24\"\n",
              "       width=\"24px\">\n",
              "    <path d=\"M0 0h24v24H0V0z\" fill=\"none\"/>\n",
              "    <path d=\"M18.56 5.44l.94 2.06.94-2.06 2.06-.94-2.06-.94-.94-2.06-.94 2.06-2.06.94zm-11 1L8.5 8.5l.94-2.06 2.06-.94-2.06-.94L8.5 2.5l-.94 2.06-2.06.94zm10 10l.94 2.06.94-2.06 2.06-.94-2.06-.94-.94-2.06-.94 2.06-2.06.94z\"/><path d=\"M17.41 7.96l-1.37-1.37c-.4-.4-.92-.59-1.43-.59-.52 0-1.04.2-1.43.59L10.3 9.45l-7.72 7.72c-.78.78-.78 2.05 0 2.83L4 21.41c.39.39.9.59 1.41.59.51 0 1.02-.2 1.41-.59l7.78-7.78 2.81-2.81c.8-.78.8-2.07 0-2.86zM5.41 20L4 18.59l7.72-7.72 1.47 1.35L5.41 20z\"/>\n",
              "  </svg>\n",
              "      </button>\n",
              "      \n",
              "  <style>\n",
              "    .colab-df-container {\n",
              "      display:flex;\n",
              "      flex-wrap:wrap;\n",
              "      gap: 12px;\n",
              "    }\n",
              "\n",
              "    .colab-df-convert {\n",
              "      background-color: #E8F0FE;\n",
              "      border: none;\n",
              "      border-radius: 50%;\n",
              "      cursor: pointer;\n",
              "      display: none;\n",
              "      fill: #1967D2;\n",
              "      height: 32px;\n",
              "      padding: 0 0 0 0;\n",
              "      width: 32px;\n",
              "    }\n",
              "\n",
              "    .colab-df-convert:hover {\n",
              "      background-color: #E2EBFA;\n",
              "      box-shadow: 0px 1px 2px rgba(60, 64, 67, 0.3), 0px 1px 3px 1px rgba(60, 64, 67, 0.15);\n",
              "      fill: #174EA6;\n",
              "    }\n",
              "\n",
              "    [theme=dark] .colab-df-convert {\n",
              "      background-color: #3B4455;\n",
              "      fill: #D2E3FC;\n",
              "    }\n",
              "\n",
              "    [theme=dark] .colab-df-convert:hover {\n",
              "      background-color: #434B5C;\n",
              "      box-shadow: 0px 1px 3px 1px rgba(0, 0, 0, 0.15);\n",
              "      filter: drop-shadow(0px 1px 2px rgba(0, 0, 0, 0.3));\n",
              "      fill: #FFFFFF;\n",
              "    }\n",
              "  </style>\n",
              "\n",
              "      <script>\n",
              "        const buttonEl =\n",
              "          document.querySelector('#df-fcf3bf27-252e-4e18-8149-47517fd5a037 button.colab-df-convert');\n",
              "        buttonEl.style.display =\n",
              "          google.colab.kernel.accessAllowed ? 'block' : 'none';\n",
              "\n",
              "        async function convertToInteractive(key) {\n",
              "          const element = document.querySelector('#df-fcf3bf27-252e-4e18-8149-47517fd5a037');\n",
              "          const dataTable =\n",
              "            await google.colab.kernel.invokeFunction('convertToInteractive',\n",
              "                                                     [key], {});\n",
              "          if (!dataTable) return;\n",
              "\n",
              "          const docLinkHtml = 'Like what you see? Visit the ' +\n",
              "            '<a target=\"_blank\" href=https://colab.research.google.com/notebooks/data_table.ipynb>data table notebook</a>'\n",
              "            + ' to learn more about interactive tables.';\n",
              "          element.innerHTML = '';\n",
              "          dataTable['output_type'] = 'display_data';\n",
              "          await google.colab.output.renderOutput(dataTable, element);\n",
              "          const docLink = document.createElement('div');\n",
              "          docLink.innerHTML = docLinkHtml;\n",
              "          element.appendChild(docLink);\n",
              "        }\n",
              "      </script>\n",
              "    </div>\n",
              "  </div>\n",
              "  "
            ]
          },
          "metadata": {},
          "execution_count": 3
        }
      ]
    },
    {
      "cell_type": "code",
      "source": [
        "df2.head()"
      ],
      "metadata": {
        "colab": {
          "base_uri": "https://localhost:8080/",
          "height": 206
        },
        "id": "ESa2gPc0JQlx",
        "outputId": "a2470d15-63bd-4f83-f7b9-6adb170856ee"
      },
      "execution_count": null,
      "outputs": [
        {
          "output_type": "execute_result",
          "data": {
            "text/plain": [
              "   no_pencatatan tanggal_catat      kota jumlah_member staf_pencatat\n",
              "0              1    01-05-2020   Jakarta           311         Andra\n",
              "1              2    30-06-2020   Jakarta           1I2         Andra\n",
              "2              3    05/02/2020   Bandung           5S0        Antara\n",
              "3              4    06/28/2020   Bandung           670        Antara\n",
              "4              5    05/10/2020  Semarang           81O         Senja"
            ],
            "text/html": [
              "\n",
              "  <div id=\"df-c0b7cf60-53b0-4c9a-b512-67a8605d3d2d\">\n",
              "    <div class=\"colab-df-container\">\n",
              "      <div>\n",
              "<style scoped>\n",
              "    .dataframe tbody tr th:only-of-type {\n",
              "        vertical-align: middle;\n",
              "    }\n",
              "\n",
              "    .dataframe tbody tr th {\n",
              "        vertical-align: top;\n",
              "    }\n",
              "\n",
              "    .dataframe thead th {\n",
              "        text-align: right;\n",
              "    }\n",
              "</style>\n",
              "<table border=\"1\" class=\"dataframe\">\n",
              "  <thead>\n",
              "    <tr style=\"text-align: right;\">\n",
              "      <th></th>\n",
              "      <th>no_pencatatan</th>\n",
              "      <th>tanggal_catat</th>\n",
              "      <th>kota</th>\n",
              "      <th>jumlah_member</th>\n",
              "      <th>staf_pencatat</th>\n",
              "    </tr>\n",
              "  </thead>\n",
              "  <tbody>\n",
              "    <tr>\n",
              "      <th>0</th>\n",
              "      <td>1</td>\n",
              "      <td>01-05-2020</td>\n",
              "      <td>Jakarta</td>\n",
              "      <td>311</td>\n",
              "      <td>Andra</td>\n",
              "    </tr>\n",
              "    <tr>\n",
              "      <th>1</th>\n",
              "      <td>2</td>\n",
              "      <td>30-06-2020</td>\n",
              "      <td>Jakarta</td>\n",
              "      <td>1I2</td>\n",
              "      <td>Andra</td>\n",
              "    </tr>\n",
              "    <tr>\n",
              "      <th>2</th>\n",
              "      <td>3</td>\n",
              "      <td>05/02/2020</td>\n",
              "      <td>Bandung</td>\n",
              "      <td>5S0</td>\n",
              "      <td>Antara</td>\n",
              "    </tr>\n",
              "    <tr>\n",
              "      <th>3</th>\n",
              "      <td>4</td>\n",
              "      <td>06/28/2020</td>\n",
              "      <td>Bandung</td>\n",
              "      <td>670</td>\n",
              "      <td>Antara</td>\n",
              "    </tr>\n",
              "    <tr>\n",
              "      <th>4</th>\n",
              "      <td>5</td>\n",
              "      <td>05/10/2020</td>\n",
              "      <td>Semarang</td>\n",
              "      <td>81O</td>\n",
              "      <td>Senja</td>\n",
              "    </tr>\n",
              "  </tbody>\n",
              "</table>\n",
              "</div>\n",
              "      <button class=\"colab-df-convert\" onclick=\"convertToInteractive('df-c0b7cf60-53b0-4c9a-b512-67a8605d3d2d')\"\n",
              "              title=\"Convert this dataframe to an interactive table.\"\n",
              "              style=\"display:none;\">\n",
              "        \n",
              "  <svg xmlns=\"http://www.w3.org/2000/svg\" height=\"24px\"viewBox=\"0 0 24 24\"\n",
              "       width=\"24px\">\n",
              "    <path d=\"M0 0h24v24H0V0z\" fill=\"none\"/>\n",
              "    <path d=\"M18.56 5.44l.94 2.06.94-2.06 2.06-.94-2.06-.94-.94-2.06-.94 2.06-2.06.94zm-11 1L8.5 8.5l.94-2.06 2.06-.94-2.06-.94L8.5 2.5l-.94 2.06-2.06.94zm10 10l.94 2.06.94-2.06 2.06-.94-2.06-.94-.94-2.06-.94 2.06-2.06.94z\"/><path d=\"M17.41 7.96l-1.37-1.37c-.4-.4-.92-.59-1.43-.59-.52 0-1.04.2-1.43.59L10.3 9.45l-7.72 7.72c-.78.78-.78 2.05 0 2.83L4 21.41c.39.39.9.59 1.41.59.51 0 1.02-.2 1.41-.59l7.78-7.78 2.81-2.81c.8-.78.8-2.07 0-2.86zM5.41 20L4 18.59l7.72-7.72 1.47 1.35L5.41 20z\"/>\n",
              "  </svg>\n",
              "      </button>\n",
              "      \n",
              "  <style>\n",
              "    .colab-df-container {\n",
              "      display:flex;\n",
              "      flex-wrap:wrap;\n",
              "      gap: 12px;\n",
              "    }\n",
              "\n",
              "    .colab-df-convert {\n",
              "      background-color: #E8F0FE;\n",
              "      border: none;\n",
              "      border-radius: 50%;\n",
              "      cursor: pointer;\n",
              "      display: none;\n",
              "      fill: #1967D2;\n",
              "      height: 32px;\n",
              "      padding: 0 0 0 0;\n",
              "      width: 32px;\n",
              "    }\n",
              "\n",
              "    .colab-df-convert:hover {\n",
              "      background-color: #E2EBFA;\n",
              "      box-shadow: 0px 1px 2px rgba(60, 64, 67, 0.3), 0px 1px 3px 1px rgba(60, 64, 67, 0.15);\n",
              "      fill: #174EA6;\n",
              "    }\n",
              "\n",
              "    [theme=dark] .colab-df-convert {\n",
              "      background-color: #3B4455;\n",
              "      fill: #D2E3FC;\n",
              "    }\n",
              "\n",
              "    [theme=dark] .colab-df-convert:hover {\n",
              "      background-color: #434B5C;\n",
              "      box-shadow: 0px 1px 3px 1px rgba(0, 0, 0, 0.15);\n",
              "      filter: drop-shadow(0px 1px 2px rgba(0, 0, 0, 0.3));\n",
              "      fill: #FFFFFF;\n",
              "    }\n",
              "  </style>\n",
              "\n",
              "      <script>\n",
              "        const buttonEl =\n",
              "          document.querySelector('#df-c0b7cf60-53b0-4c9a-b512-67a8605d3d2d button.colab-df-convert');\n",
              "        buttonEl.style.display =\n",
              "          google.colab.kernel.accessAllowed ? 'block' : 'none';\n",
              "\n",
              "        async function convertToInteractive(key) {\n",
              "          const element = document.querySelector('#df-c0b7cf60-53b0-4c9a-b512-67a8605d3d2d');\n",
              "          const dataTable =\n",
              "            await google.colab.kernel.invokeFunction('convertToInteractive',\n",
              "                                                     [key], {});\n",
              "          if (!dataTable) return;\n",
              "\n",
              "          const docLinkHtml = 'Like what you see? Visit the ' +\n",
              "            '<a target=\"_blank\" href=https://colab.research.google.com/notebooks/data_table.ipynb>data table notebook</a>'\n",
              "            + ' to learn more about interactive tables.';\n",
              "          element.innerHTML = '';\n",
              "          dataTable['output_type'] = 'display_data';\n",
              "          await google.colab.output.renderOutput(dataTable, element);\n",
              "          const docLink = document.createElement('div');\n",
              "          docLink.innerHTML = docLinkHtml;\n",
              "          element.appendChild(docLink);\n",
              "        }\n",
              "      </script>\n",
              "    </div>\n",
              "  </div>\n",
              "  "
            ]
          },
          "metadata": {},
          "execution_count": 4
        }
      ]
    },
    {
      "cell_type": "markdown",
      "source": [
        "# **Creating New Column using Regex**"
      ],
      "metadata": {
        "id": "gne_QenNTjyL"
      }
    },
    {
      "cell_type": "markdown",
      "source": [
        "## **.contains()**\n",
        "\n",
        "The `.contains()` syntax in Python is used to test whether a word pattern or regex is present in a string or not. It returns True if there is a match and False if there is not."
      ],
      "metadata": {
        "id": "jBJofVvVpowQ"
      }
    },
    {
      "cell_type": "markdown",
      "source": [
        "### **Every city names that contains j, J, s, or even S must be True**\n",
        "\n",
        "Using : `^`, `|`, `()`, and `case = False`\n",
        "\n",
        "For Column : **kota**\n",
        "\n",
        "Goal :\n",
        "\n",
        "City name that contains j, J, s, S must be True\n",
        "1. Jakarta = True\n",
        "2. jakarta = True\n",
        "3. Semarang = True\n",
        "4. semarang = True"
      ],
      "metadata": {
        "id": "glc2UZuYfcBZ"
      }
    },
    {
      "cell_type": "code",
      "source": [
        "# Creating new column named 'kota_awalan_j_s'\n",
        "df['kota_awalan_j_s'] = df['kota'].str.contains('^(j|s)', case = False)\n",
        "\n",
        "print(df[['kota','kota_awalan_j_s']])"
      ],
      "metadata": {
        "colab": {
          "base_uri": "https://localhost:8080/"
        },
        "id": "LtNIK1CUTcjw",
        "outputId": "c6242e60-fa62-4c67-f0fb-663820a1d84e"
      },
      "execution_count": null,
      "outputs": [
        {
          "output_type": "stream",
          "name": "stdout",
          "text": [
            "       kota  kota_awalan_j_s\n",
            "0   Jakarta             True\n",
            "1   Jakarta             True\n",
            "2   Bandung            False\n",
            "3   Bandung            False\n",
            "4  Semarang             True\n",
            "5  Semarang             True\n"
          ]
        },
        {
          "output_type": "stream",
          "name": "stderr",
          "text": [
            "<ipython-input-5-1cac8eefaf1e>:2: UserWarning: This pattern is interpreted as a regular expression, and has match groups. To actually get the groups, use str.extract.\n",
            "  df['kota_awalan_j_s'] = df['kota'].str.contains('^(j|s)', case = False)\n"
          ]
        }
      ]
    },
    {
      "cell_type": "markdown",
      "source": [
        "### **Every staff's names that contains \"Senja\" and are different from \"Senja\" must be True**\n",
        "\n",
        "Using : `.` and `?`\n",
        "\n",
        "For Column : **staf_pencatat**\n",
        "\n",
        "Goal :\n",
        "1. Senja = True\n",
        "2. Sendja = True\n",
        "3. Sen_ja = True"
      ],
      "metadata": {
        "id": "15f4_3HhfiMe"
      }
    },
    {
      "cell_type": "code",
      "source": [
        "# Creating new column named 'pencatat_senja'\n",
        "df['pencatat_senja'] = df['staf_pencatat'].str.contains('Sen.?ja')\n",
        "\n",
        "print(df[['staf_pencatat','pencatat_senja']])"
      ],
      "metadata": {
        "colab": {
          "base_uri": "https://localhost:8080/"
        },
        "id": "MCXGXg-fWJEz",
        "outputId": "1b0fa8ec-4396-428b-b309-c70ab9b74fe2"
      },
      "execution_count": null,
      "outputs": [
        {
          "output_type": "stream",
          "name": "stdout",
          "text": [
            "  staf_pencatat  pencatat_senja\n",
            "0         Andra           False\n",
            "1         Andra           False\n",
            "2        Antara           False\n",
            "3        Antara           False\n",
            "4         Senja            True\n",
            "5        Sendja            True\n"
          ]
        }
      ]
    },
    {
      "cell_type": "markdown",
      "source": [
        "### **Are there any non-numerical value in a numerical column?**\n",
        "\n",
        "Using : `[]` and `^`\n",
        "\n",
        "For Column : **jumlah_member**\n",
        "\n",
        "Goal :\n",
        "\n",
        "**jumlah_member** is a non-numerical data (int), so every values in **jumlah_member** column that contains non-numerical value must be checked.\n",
        "1. 311 = False\n",
        "2. 1I2 = True\n",
        "3. 5S0 = True\n",
        "4. 670 = False\n",
        "5. 81O = True\n",
        "6. 1O2 = True"
      ],
      "metadata": {
        "id": "FdW945j-iEZk"
      }
    },
    {
      "cell_type": "code",
      "source": [
        "# Creating new column named 'char_nonnumerik'\n",
        "df['char_nonnumerik'] = df['jumlah_member'].str.contains('[^0-9]')\n",
        "\n",
        "print(df[['jumlah_member','char_nonnumerik']])"
      ],
      "metadata": {
        "colab": {
          "base_uri": "https://localhost:8080/"
        },
        "id": "C2_L5SqDh91k",
        "outputId": "d8d5f066-4829-405a-ee48-a407935f432c"
      },
      "execution_count": null,
      "outputs": [
        {
          "output_type": "stream",
          "name": "stdout",
          "text": [
            "  jumlah_member  char_nonnumerik\n",
            "0           311            False\n",
            "1           1I2             True\n",
            "2           5S0             True\n",
            "3           670            False\n",
            "4           81O             True\n",
            "5           1O2             True\n"
          ]
        }
      ]
    },
    {
      "cell_type": "markdown",
      "source": [
        "## **.replace()**\n",
        "\n",
        "The `.replace()` syntax in Python is used to replace one or more characters that need to be changed with another character or string."
      ],
      "metadata": {
        "id": "uJHOSt4MpgM4"
      }
    },
    {
      "cell_type": "markdown",
      "source": [
        "### **Replace Words to a Specific Word**\n",
        "\n",
        "Using : `.` and `?`\n",
        "\n",
        "For Column : **staf_pencatat**\n",
        "\n",
        "Goal :\n",
        "1. Sendja = Senja\n",
        "2. Sen_ja = Senja\n",
        "3. Etc."
      ],
      "metadata": {
        "id": "2JyCkHESsE1h"
      }
    },
    {
      "cell_type": "code",
      "source": [
        "# Replacing every word that contains \"Senja\" and is different from \"Senja\" to \"Senja\"\n",
        "df['staf_pencatat'] = df['staf_pencatat'].str.replace('Sen.?ja', 'Senja')\n",
        "\n",
        "print(df['staf_pencatat'])"
      ],
      "metadata": {
        "colab": {
          "base_uri": "https://localhost:8080/"
        },
        "id": "u3Yyo_gaopKY",
        "outputId": "572865af-31df-447e-a91f-c396c6666aea"
      },
      "execution_count": null,
      "outputs": [
        {
          "output_type": "stream",
          "name": "stdout",
          "text": [
            "0     Andra\n",
            "1     Andra\n",
            "2    Antara\n",
            "3    Antara\n",
            "4     Senja\n",
            "5     Senja\n",
            "Name: staf_pencatat, dtype: object\n"
          ]
        },
        {
          "output_type": "stream",
          "name": "stderr",
          "text": [
            "<ipython-input-8-9a86e00169af>:2: FutureWarning: The default value of regex will change from True to False in a future version.\n",
            "  df['staf_pencatat'] = df['staf_pencatat'].str.replace('Sen.?ja', 'Senja')\n"
          ]
        }
      ]
    },
    {
      "cell_type": "markdown",
      "source": [
        "### **Replace Non-Numerical to Numerical**\n",
        "\n",
        "Using : `[]`, `for loop`, and `mapping`\n",
        "\n",
        "For Column : **jumlah_member**\n",
        "\n",
        "Goal :\n",
        "\n",
        "**jumlah_member** is a non-numerical data (int), so every values in **jumlah_member** column that contains non-numerical value must be replaced to numerical value. Here are the conditions :\n",
        "1. O = 0\n",
        "2. I = 1\n",
        "3. S = 5"
      ],
      "metadata": {
        "id": "sJJlsgaKrU5N"
      }
    },
    {
      "cell_type": "code",
      "source": [
        "# Replacing the non-numerical value in 'jumlah_member' to numerical value\n",
        "mapchange = {'O':'0','I':'1','S':'5'}\n",
        "df['jumlah_member_clean'] = df['jumlah_member']\n",
        "\n",
        "for changefrom, changeto in mapchange.items():\n",
        "\tdf['jumlah_member_clean'] = df['jumlah_member_clean'].str.replace(changefrom, changeto, case = False)\n",
        "\n",
        "print(df[['jumlah_member', 'jumlah_member_clean']])"
      ],
      "metadata": {
        "colab": {
          "base_uri": "https://localhost:8080/"
        },
        "id": "Sjc7MHS-rBM8",
        "outputId": "8921159f-af29-4e20-ac72-7e38d323b5f6"
      },
      "execution_count": null,
      "outputs": [
        {
          "output_type": "stream",
          "name": "stdout",
          "text": [
            "  jumlah_member jumlah_member_clean\n",
            "0           311                 311\n",
            "1           1I2                 112\n",
            "2           5S0                 550\n",
            "3           670                 670\n",
            "4           81O                 810\n",
            "5           1O2                 102\n"
          ]
        }
      ]
    },
    {
      "cell_type": "markdown",
      "source": [
        "### **Deleting Non-Numerical**\n",
        "\n",
        "Using : `[]` and `^`\n",
        "\n",
        "For Column : **jumlah_member**\n",
        "\n",
        "Goal :\n",
        "1. 311 = 311\n",
        "2. 1I2 = 12\n",
        "3. 5S0 = 50\n",
        "4. 670 = 670\n",
        "5. 81O = 81\n",
        "6. 1O2 = 12"
      ],
      "metadata": {
        "id": "asr6OZF4uAyO"
      }
    },
    {
      "cell_type": "code",
      "source": [
        "# Deleting the non-numerical values in 'jumlah_member'\n",
        "df['jumlah_member'] = df['jumlah_member'].str.replace('[^0-9]', '')\n",
        "\n",
        "print(df['jumlah_member'])"
      ],
      "metadata": {
        "colab": {
          "base_uri": "https://localhost:8080/"
        },
        "id": "T7oCBZaTsYTn",
        "outputId": "11bd2132-5bd5-41b5-b057-4727c2932e66"
      },
      "execution_count": null,
      "outputs": [
        {
          "output_type": "stream",
          "name": "stdout",
          "text": [
            "0    311\n",
            "1     12\n",
            "2     50\n",
            "3    670\n",
            "4     81\n",
            "5     12\n",
            "Name: jumlah_member, dtype: object\n"
          ]
        },
        {
          "output_type": "stream",
          "name": "stderr",
          "text": [
            "<ipython-input-10-fda80d6ab50b>:2: FutureWarning: The default value of regex will change from True to False in a future version.\n",
            "  df['jumlah_member'] = df['jumlah_member'].str.replace('[^0-9]', '')\n"
          ]
        }
      ]
    },
    {
      "cell_type": "markdown",
      "source": [
        "### **Fixing the Date Format**\n",
        "\n",
        "Using : `\\\\`, `[]`, and `{number}`\n",
        "\n",
        "For Column : **tanggal_catat**\n",
        "\n",
        "Goal :\n",
        "\n",
        "DD-MM-YYYY = MM/DD/YYYY"
      ],
      "metadata": {
        "id": "geOXmfiqwRRW"
      }
    },
    {
      "cell_type": "code",
      "source": [
        "# Fixing the date format\n",
        "df['tanggal_catat'] = df['tanggal_catat'].str.replace('([0-9]{2})-([0-9]{2})-([0-9]{4})','\\\\2/\\\\1/\\\\3')\n",
        "\n",
        "print(df['tanggal_catat'])"
      ],
      "metadata": {
        "colab": {
          "base_uri": "https://localhost:8080/"
        },
        "id": "dKTq0CyuwFIR",
        "outputId": "5914ec0c-435b-41de-d3e0-877ca8f375dd"
      },
      "execution_count": null,
      "outputs": [
        {
          "output_type": "stream",
          "name": "stdout",
          "text": [
            "0    05/01/2020\n",
            "1    06/30/2020\n",
            "2    05/02/2020\n",
            "3    06/28/2020\n",
            "4    05/10/2020\n",
            "5    06/28/2020\n",
            "Name: tanggal_catat, dtype: object\n"
          ]
        },
        {
          "output_type": "stream",
          "name": "stderr",
          "text": [
            "<ipython-input-11-3c9a3069e141>:2: FutureWarning: The default value of regex will change from True to False in a future version.\n",
            "  df['tanggal_catat'] = df['tanggal_catat'].str.replace('([0-9]{2})-([0-9]{2})-([0-9]{4})','\\\\2/\\\\1/\\\\3')\n"
          ]
        }
      ]
    },
    {
      "cell_type": "markdown",
      "source": [
        "# **Implementing All of Regex Method that I've Learned**"
      ],
      "metadata": {
        "id": "xVAKxZJmIdt3"
      }
    },
    {
      "cell_type": "code",
      "source": [
        "print(\"Original Table:\")\n",
        "print(df2)\n",
        "\n",
        "# Fixing the date format\n",
        "mapchange = {'([0-9]{2})-([0-9]{2})-([0-9]{4})': '\\\\3-\\\\2-\\\\1', '([0-9]{2})/([0-9]{2})/([0-9]{4})' : '\\\\3-\\\\1-\\\\2'}\n",
        "for changefrom, changeto in mapchange.items():\n",
        "   \tdf2['tanggal_catat'] = df2['tanggal_catat'].str.replace(changefrom, changeto)\n",
        "\n",
        "# Changing the datatypes of 'tanggal_catat' column to datetime\n",
        "df2['tanggal_catat'] = pd.to_datetime(df2['tanggal_catat'])\n",
        " \n",
        "# Deleting non-numerical value in 'jumlah_member' column and changing the datatypes into integer\n",
        "df2['jumlah_member'] = df2['jumlah_member'].str.replace('[^0-9]','')\n",
        "df2['jumlah_member'] = df2['jumlah_member'].astype(int)\n",
        " \n",
        "# Replacing any words that contains \"Senja\" and is different from \"Senja\" to just \"Senja\"\n",
        "df2['staf_pencatat'] = df2['staf_pencatat'].str.replace('Sen.?ja', 'Senja')\n",
        " \n",
        "# Result\n",
        "print(\"\\nFinal Table:\")\n",
        "print(df2) "
      ],
      "metadata": {
        "colab": {
          "base_uri": "https://localhost:8080/"
        },
        "id": "u28GdFE0H-gY",
        "outputId": "26c627a2-f0d0-46c3-87bc-65cdba91697f"
      },
      "execution_count": null,
      "outputs": [
        {
          "output_type": "stream",
          "name": "stdout",
          "text": [
            "Original Table:\n",
            "   no_pencatatan tanggal_catat      kota jumlah_member staf_pencatat\n",
            "0              1    01-05-2020   Jakarta           311         Andra\n",
            "1              2    30-06-2020   Jakarta           1I2         Andra\n",
            "2              3    05/02/2020   Bandung           5S0        Antara\n",
            "3              4    06/28/2020   Bandung           670        Antara\n",
            "4              5    05/10/2020  Semarang           81O         Senja\n",
            "5              6    06/28/2020  Semarang           1O2        Sendja\n",
            "\n",
            "Final Table:\n",
            "   no_pencatatan tanggal_catat      kota  jumlah_member staf_pencatat\n",
            "0              1    2020-05-01   Jakarta            311         Andra\n",
            "1              2    2020-06-30   Jakarta             12         Andra\n",
            "2              3    2020-05-02   Bandung             50        Antara\n",
            "3              4    2020-06-28   Bandung            670        Antara\n",
            "4              5    2020-05-10  Semarang             81         Senja\n",
            "5              6    2020-06-28  Semarang             12         Senja\n"
          ]
        },
        {
          "output_type": "stream",
          "name": "stderr",
          "text": [
            "<ipython-input-12-d1e956ce2c6b>:7: FutureWarning: The default value of regex will change from True to False in a future version.\n",
            "  df2['tanggal_catat'] = df2['tanggal_catat'].str.replace(changefrom, changeto)\n",
            "<ipython-input-12-d1e956ce2c6b>:13: FutureWarning: The default value of regex will change from True to False in a future version.\n",
            "  df2['jumlah_member'] = df2['jumlah_member'].str.replace('[^0-9]','')\n",
            "<ipython-input-12-d1e956ce2c6b>:17: FutureWarning: The default value of regex will change from True to False in a future version.\n",
            "  df2['staf_pencatat'] = df2['staf_pencatat'].str.replace('Sen.?ja', 'Senja')\n"
          ]
        }
      ]
    },
    {
      "cell_type": "markdown",
      "source": [
        "---\n",
        "\n",
        "<center>\n",
        "\n",
        "#**END**\n",
        "\n",
        "</center>\n",
        "\n",
        "---"
      ],
      "metadata": {
        "id": "yp70-ETHT81s"
      }
    },
    {
      "cell_type": "markdown",
      "source": [
        "# **Training Source :**\n",
        "\n",
        "DQLab"
      ],
      "metadata": {
        "id": "VnZmeaq5T3Sh"
      }
    }
  ]
}